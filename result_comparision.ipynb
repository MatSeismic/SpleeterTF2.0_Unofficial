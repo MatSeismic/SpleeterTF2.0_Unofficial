{
 "cells": [
  {
   "cell_type": "code",
   "execution_count": 11,
   "id": "9b59012a",
   "metadata": {},
   "outputs": [],
   "source": [
    "import tensorflow as tf\n",
    "from audio.adapter import get_audio_adapter"
   ]
  },
  {
   "cell_type": "code",
   "execution_count": 2,
   "id": "1255e600",
   "metadata": {},
   "outputs": [],
   "source": [
    "audio_adapter = get_audio_adapter(None)"
   ]
  },
  {
   "cell_type": "code",
   "execution_count": 16,
   "id": "0d3d3ea9",
   "metadata": {},
   "outputs": [],
   "source": [
    "def dice_coefficient(y_true, y_pred):\n",
    "    numerator = 2 * tf.reduce_sum(y_true * y_pred)\n",
    "    denominator = tf.reduce_sum(y_true*y_true) + tf.reduce_sum(y_pred*y_pred)\n",
    "    return numerator / (denominator + tf.keras.backend.epsilon())\n",
    "\n",
    "def get_result(waveform_original, waveform_retrained):\n",
    "    return dice_coefficient(waveform_original[:, 1], waveform_retrained[:, 1]) + dice_coefficient(waveform_original[:, 0], waveform_retrained[:, 0])"
   ]
  },
  {
   "cell_type": "code",
   "execution_count": 38,
   "id": "4b66a34d",
   "metadata": {},
   "outputs": [],
   "source": [
    "def compute_score(path_original, path_splitted):\n",
    "    waveform_original, _ = audio_adapter.load(\n",
    "        path_original,\n",
    "        offset=0,\n",
    "        duration=5,\n",
    "        sample_rate=44100)\n",
    "    waveform_splitted, sample_rate = audio_adapter.load(\n",
    "        path_splitted,\n",
    "        offset=0,\n",
    "        duration=5,\n",
    "        sample_rate=44100)\n",
    "    \n",
    "    print(\"dice coefficient: %.3f\" %get_result(waveform_original, waveform_splitted).numpy())"
   ]
  },
  {
   "cell_type": "code",
   "execution_count": 40,
   "id": "2cc67afc",
   "metadata": {},
   "outputs": [
    {
     "name": "stdout",
     "output_type": "stream",
     "text": [
      "dice coefficient: 2.000\n"
     ]
    }
   ],
   "source": [
    "path_original = './sample_dataset/vocals.wav'\n",
    "# path_splitted = './sample_dataset/vocals_spectrogram_tf.wav'\n",
    "compute_score(path_original, path_original)"
   ]
  },
  {
   "cell_type": "code",
   "execution_count": 39,
   "id": "52150555",
   "metadata": {},
   "outputs": [
    {
     "name": "stdout",
     "output_type": "stream",
     "text": [
      "dice coefficient: 0.104\n"
     ]
    }
   ],
   "source": [
    "path_splitted = './sample_dataset/vocals_spectrogram_tf.wav'\n",
    "compute_score(path_original, path_splitted)"
   ]
  },
  {
   "cell_type": "code",
   "execution_count": 41,
   "id": "699f32f3",
   "metadata": {},
   "outputs": [
    {
     "name": "stdout",
     "output_type": "stream",
     "text": [
      "dice coefficient: 0.212\n"
     ]
    }
   ],
   "source": [
    "path_splitted = './sample_dataset/vocals_spectrogram_clustered.wav'\n",
    "compute_score(path_original, path_splitted)"
   ]
  },
  {
   "cell_type": "code",
   "execution_count": 42,
   "id": "b6bce727",
   "metadata": {},
   "outputs": [
    {
     "name": "stdout",
     "output_type": "stream",
     "text": [
      "dice coefficient: 0.217\n"
     ]
    }
   ],
   "source": [
    "path_splitted = './sample_dataset/vocals_spectrogram_qat.wav'\n",
    "compute_score(path_original, path_splitted)"
   ]
  },
  {
   "cell_type": "code",
   "execution_count": 44,
   "id": "1b9c627a",
   "metadata": {},
   "outputs": [
    {
     "name": "stdout",
     "output_type": "stream",
     "text": [
      "dice coefficient: 0.146\n"
     ]
    }
   ],
   "source": [
    "path_splitted = './sample_dataset/vocals_spectrogram_pruned10.wav'\n",
    "compute_score(path_original, path_splitted)"
   ]
  },
  {
   "cell_type": "code",
   "execution_count": 45,
   "id": "bcab7269",
   "metadata": {},
   "outputs": [
    {
     "name": "stdout",
     "output_type": "stream",
     "text": [
      "dice coefficient: 0.202\n"
     ]
    }
   ],
   "source": [
    "path_splitted = './sample_dataset/vocals_spectrogram_pruned80.wav'\n",
    "compute_score(path_original, path_splitted)"
   ]
  },
  {
   "cell_type": "code",
   "execution_count": 46,
   "id": "af89a598",
   "metadata": {},
   "outputs": [
    {
     "name": "stdout",
     "output_type": "stream",
     "text": [
      "dice coefficient: 1.829\n"
     ]
    }
   ],
   "source": [
    "path_splitted = './sample_dataset/vocals_spleeter_model.wav'\n",
    "compute_score(path_original, path_splitted)"
   ]
  },
  {
   "cell_type": "code",
   "execution_count": null,
   "id": "1cce489b",
   "metadata": {},
   "outputs": [],
   "source": []
  }
 ],
 "metadata": {
  "kernelspec": {
   "display_name": "Python 3 (ipykernel)",
   "language": "python",
   "name": "python3"
  },
  "language_info": {
   "codemirror_mode": {
    "name": "ipython",
    "version": 3
   },
   "file_extension": ".py",
   "mimetype": "text/x-python",
   "name": "python",
   "nbconvert_exporter": "python",
   "pygments_lexer": "ipython3",
   "version": "3.7.11"
  }
 },
 "nbformat": 4,
 "nbformat_minor": 5
}
